{
 "cells": [
  {
   "cell_type": "markdown",
   "id": "72e163ad",
   "metadata": {},
   "source": [
    "# Visualize Results of a Patch-Based Model\n",
    "This notebook allows you to see the results of a patch-based model.<br>\n",
    "You can look at just sinograms, or both sinograms and reconstructions.<br>\n",
    "You can also choose which sample you want to see results from, and which slices you want to see.<br>\n",
    "The default behaviour is to randomly choose a sample number and slices.<br>"
   ]
  },
  {
   "cell_type": "markdown",
   "id": "23c6ac2f",
   "metadata": {},
   "source": [
    "### Imports"
   ]
  },
  {
   "cell_type": "code",
   "execution_count": null,
   "id": "025e2a89",
   "metadata": {},
   "outputs": [],
   "source": [
    "from pathlib import Path\n",
    "import numpy as np\n",
    "import torch\n",
    "import matplotlib.pyplot as plt\n",
    "plt.rcParams[\"figure.figsize\"] = (12, 8)\n",
    "plt.rcParams[\"figure.dpi\"] = 300\n",
    "%matplotlib inline\n",
    "\n",
    "from network.patch_visualizer import PatchVisualizer\n",
    "from network.models import MaskedGAN\n",
    "from network.models.generators import PatchUNet\n",
    "from network.models.discriminators import PatchDiscriminator\n",
    "\n",
    "# Number of threads for OpenMP. If too high, may cause error\n",
    "%env OMP_NUM_THREADS=8"
   ]
  },
  {
   "cell_type": "markdown",
   "id": "3fb48d8c",
   "metadata": {},
   "source": [
    "## Parameters\n",
    "Specify the parameters you want to run with here.<br>\n",
    "\n",
    "`data_dir` is the directory containing the input data.<br>\n",
    "`model_file` is the path to the model you want to visualize.<br>\n",
    "`mask_file` is the path to the binary mask indicating locations of stripes.<br>\n",
    "`recon` is a bool indicating whether reconstructions should be plotted as well.<br>\n",
    "`sample_no` is the sample number to load data from:<br>\n",
    " - `0`    :    119617.nxs (i12 Data)\n",
    " - `1`    :    68067.nxs  (Nghia's data)\n",
    " - `2`    :    123893.nxs (?)\n",
    " - `3`    :    123951.nxs (?)\n",
    " - `4`    :    124272.nxs (?)\n",
    " - `5`    :    124273.nxs (?)\n",
    " \n",
    "By default, `sample_no` is randomly generated.<br>"
   ]
  },
  {
   "cell_type": "code",
   "execution_count": null,
   "id": "4fffa8a2",
   "metadata": {},
   "outputs": [],
   "source": [
    "data_dir = Path('/path/to/data')\n",
    "model_file = Path('/path/to/model.tar')\n",
    "mask_file = Path('/path/to/stripe_mask.npz')\n",
    "recon = True\n",
    "\n",
    "rng = np.random.default_rng()\n",
    "sample_no = rng.integers(6)\n",
    "print(f\"Sample No.: {sample_no}\")"
   ]
  },
  {
   "cell_type": "markdown",
   "id": "111dab02",
   "metadata": {},
   "source": [
    "### Setup"
   ]
  },
  {
   "cell_type": "code",
   "execution_count": null,
   "id": "090b6204",
   "metadata": {},
   "outputs": [],
   "source": [
    "if torch.cuda.is_available():\n",
    "    d = torch.device('cuda')\n",
    "else:\n",
    "    d = torch.device('cpu')\n",
    "\n",
    "# Load model state dict from disk\n",
    "checkpoint = torch.load(model_file, map_location=d)\n",
    "# Initialize Generator and Discriminator\n",
    "gen = torch.nn.DataParallel(PatchUNet())\n",
    "gen.load_state_dict(checkpoint['gen_state_dict'])\n",
    "disc = torch.nn.DataParallel(PatchDiscriminator())\n",
    "disc.load_state_dict(checkpoint['disc_state_dict'])\n",
    "# Initialize Model\n",
    "model = MaskedGAN(gen, disc, mode='test', device=d)\n",
    "\n",
    "# Initialize Visualizer\n",
    "v = PatchVisualizer(data_dir, model, sample_no=sample_no, mask_file=mask_file)"
   ]
  },
  {
   "cell_type": "markdown",
   "id": "8ae40022",
   "metadata": {},
   "source": [
    "## Plot Fake Artifacts\n",
    "\n",
    "`fake_artifact_idx` is the slice index of the sinogram you want to plot.<br>\n",
    "Be sure to choose a sinogram that has **no** real-life artifacts, as otherwise you'll see black boxes where the real artifact is.<br>\n",
    "The `clean_idxs` attribute of `PatchVisualizer` is a list of all sinogram slice indexes that don't contain any real-life artifacts.<br>\n",
    "By default, `fake_artifact_idx` is randomly chosen from `clean_idxs`.<br>"
   ]
  },
  {
   "cell_type": "code",
   "execution_count": null,
   "id": "6e5da307",
   "metadata": {},
   "outputs": [],
   "source": [
    "fake_artifact_idx = rng.choice(v.clean_idxs)\n",
    "v.plot_all(fake_artifact_idx, recon=recon)\n",
    "print(f\"Index: {fake_artifact_idx}\")"
   ]
  },
  {
   "cell_type": "markdown",
   "id": "102bef38",
   "metadata": {},
   "source": [
    "## Plot Real-life Artifacts\n",
    "`real_artifact_idx` is the slice index of the sinogram you want to plot.<br>\n",
    "Be sure to choose a sinogram that has **at least one** real-life artifact, as otherwise you won't be able to see the effect of the model.<br>\n",
    "The `stripe_idxs` attribute of `PatchVisualizer` is a list of all sinogram slice indexes that contain at least one real-life artifact.<br>\n",
    "By default, `real_artifact_idx` is randomly chosen from `stripe_idxs`.<br>"
   ]
  },
  {
   "cell_type": "code",
   "execution_count": null,
   "id": "89339920",
   "metadata": {
    "scrolled": false
   },
   "outputs": [],
   "source": [
    "real_artifact_idx = rng.choice(v.stripe_idxs)\n",
    "v.plot_all_raw(real_artifact_idx, recon=recon)\n",
    "print(f\"Index: {real_artifact_idx}\")"
   ]
  },
  {
   "cell_type": "code",
   "execution_count": null,
   "id": "ab0a9085",
   "metadata": {},
   "outputs": [],
   "source": []
  }
 ],
 "metadata": {
  "kernelspec": {
   "display_name": "NoStripesNet (cluster) [User Conda - nsn_cluster]",
   "language": "python",
   "name": "conda-env-User_Conda_-_nsn_cluster-nsn_cluster"
  },
  "language_info": {
   "codemirror_mode": {
    "name": "ipython",
    "version": 3
   },
   "file_extension": ".py",
   "mimetype": "text/x-python",
   "name": "python",
   "nbconvert_exporter": "python",
   "pygments_lexer": "ipython3",
   "version": "3.9.16"
  }
 },
 "nbformat": 4,
 "nbformat_minor": 5
}
